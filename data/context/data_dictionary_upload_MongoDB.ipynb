{
 "cells": [
  {
   "cell_type": "markdown",
   "metadata": {},
   "source": [
    "## Importing Libraries"
   ]
  },
  {
   "cell_type": "code",
   "execution_count": 1,
   "metadata": {
    "id": "21O0YT4fnFXx"
   },
   "outputs": [
    {
     "data": {
      "text/plain": [
       "True"
      ]
     },
     "execution_count": 1,
     "metadata": {},
     "output_type": "execute_result"
    }
   ],
   "source": [
    "from pymongo import MongoClient\n",
    "import os\n",
    "from dotenv import load_dotenv\n",
    "load_dotenv()\n",
    "from langchain_openai import OpenAIEmbeddings\n",
    "from langchain_community.document_loaders import JSONLoader\n",
    "from langchain_mongodb import MongoDBAtlasVectorSearch\n"
   ]
  },
  {
   "cell_type": "markdown",
   "metadata": {},
   "source": [
    "## Creating MongoDB Instance"
   ]
  },
  {
   "cell_type": "code",
   "execution_count": 2,
   "metadata": {
    "id": "IDEUWKWcnFXx"
   },
   "outputs": [],
   "source": [
    "client = MongoClient(os.getenv('MONGODB_URI'), tls=True,\n",
    "    tlsAllowInvalidCertificates=True)\n",
    "db = client.get_database(os.getenv('DB_NAME'))\n",
    "c_name = os.getenv('COLLECTION_NAME')\n",
    "collection = db[c_name]"
   ]
  },
  {
   "cell_type": "code",
   "execution_count": 3,
   "metadata": {
    "colab": {
     "base_uri": "https://localhost:8080/"
    },
    "id": "-kks21K8oKCQ",
    "outputId": "c1ea458d-e0f8-4936-cb36-6d47e3526734"
   },
   "outputs": [
    {
     "data": {
      "text/plain": [
       "DeleteResult({'n': 6, 'electionId': ObjectId('7fffffff000000000000016f'), 'opTime': {'ts': Timestamp(1729456672, 6), 't': 367}, 'ok': 1.0, '$clusterTime': {'clusterTime': Timestamp(1729456672, 11), 'signature': {'hash': b\"T$\\xdc\\xa4I\\x94[\\x83\\xa9\\x9dU\\xa4\\xce\\xcc'\\xf9\\xbd\\xf9b\\xf1\", 'keyId': 7396507345313857564}}, 'operationTime': Timestamp(1729456672, 6)}, acknowledged=True)"
      ]
     },
     "execution_count": 3,
     "metadata": {},
     "output_type": "execute_result"
    }
   ],
   "source": [
    "collection.delete_many({})"
   ]
  },
  {
   "cell_type": "markdown",
   "metadata": {},
   "source": [
    "## Metadata Function"
   ]
  },
  {
   "cell_type": "code",
   "execution_count": null,
   "metadata": {
    "id": "AxRqRoPIgjZ8"
   },
   "outputs": [],
   "source": [
    "def metadata_func(record: dict, metadata: dict) -> dict:\n",
    "    def column_retriever(ls):\n",
    "        # cname = []\n",
    "        # dtype = []\n",
    "        cdesc = {}\n",
    "        encode_values = {}\n",
    "        for i in range(len(ls)):\n",
    "            cdesc[ls[i].get(\"Column_Description\")] = ls[i].get(\"Column_Name\")\n",
    "            if ls[i].get(\"encoded_values\",-10000)!=-10000:\n",
    "              encode_values[ls[i].get(\"Column_Name\")] = ls[i].get(\"encoded_values\")\n",
    "\n",
    "        return encode_values, cdesc\n",
    "    encode_values, cdesc = column_retriever(record.get(\"Columns\"))\n",
    "    metadata[\"Table_Name\"] = record.get(\"Table_Name\")\n",
    "    metadata[\"Table_Description\"] = record.get(\"Table_Description\")\n",
    "    metadata[\"Encoded_Values\"] = str(encode_values)\n",
    "    metadata[\"Column_Description\"] = str(cdesc)\n",
    "\n",
    "    return metadata\n",
    "\n",
    "loader = JSONLoader(\n",
    "    file_path=\"tableinfo_new.json\",\n",
    "    jq_schema=\".[].Table_Info[]\",\n",
    "    content_key=\"Table_Description\",\n",
    "    metadata_func=metadata_func,\n",
    ")\n",
    "data = loader.load()"
   ]
  },
  {
   "cell_type": "markdown",
   "metadata": {},
   "source": [
    "## Creating Vector Embeddings"
   ]
  },
  {
   "cell_type": "code",
   "execution_count": 6,
   "metadata": {
    "id": "lt9r-ak7wnTs"
   },
   "outputs": [],
   "source": [
    "openai_api_key = os.getenv(\"OPENAI_API_KEY\")\n",
    "embedding_function = OpenAIEmbeddings(\n",
    "    openai_api_key=openai_api_key, model=\"text-embedding-ada-002\")"
   ]
  },
  {
   "cell_type": "markdown",
   "metadata": {},
   "source": [
    "## Data Injection using Vector Embedddings in MongoDB"
   ]
  },
  {
   "cell_type": "code",
   "execution_count": 7,
   "metadata": {
    "colab": {
     "base_uri": "https://localhost:8080/"
    },
    "id": "vx-I6KbetSA3",
    "outputId": "ec55d3ce-6f18-4732-8fb5-0707caa659ed"
   },
   "outputs": [
    {
     "data": {
      "text/plain": [
       "[ObjectId('67156a68c8305c5dd94ea40e'),\n",
       " ObjectId('67156a68c8305c5dd94ea40f'),\n",
       " ObjectId('67156a68c8305c5dd94ea410'),\n",
       " ObjectId('67156a68c8305c5dd94ea411'),\n",
       " ObjectId('67156a68c8305c5dd94ea412'),\n",
       " ObjectId('67156a68c8305c5dd94ea413')]"
      ]
     },
     "execution_count": 7,
     "metadata": {},
     "output_type": "execute_result"
    }
   ],
   "source": [
    "vector_search = MongoDBAtlasVectorSearch(collection=collection, embedding=embedding_function)\n",
    "# Add documents to the vector index\n",
    "vector_search.add_documents(\n",
    "    documents=data,\n",
    "    index_name=os.getenv(\"ATLAS_VECTOR_SEARCH_INDEX_NAME\")\n",
    ")"
   ]
  }
 ],
 "metadata": {
  "colab": {
   "provenance": []
  },
  "kernelspec": {
   "display_name": "venv",
   "language": "python",
   "name": "python3"
  },
  "language_info": {
   "codemirror_mode": {
    "name": "ipython",
    "version": 3
   },
   "file_extension": ".py",
   "mimetype": "text/x-python",
   "name": "python",
   "nbconvert_exporter": "python",
   "pygments_lexer": "ipython3",
   "version": "3.11.8"
  }
 },
 "nbformat": 4,
 "nbformat_minor": 0
}
