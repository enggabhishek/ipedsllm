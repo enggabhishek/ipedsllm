{
 "cells": [
  {
   "cell_type": "markdown",
   "metadata": {},
   "source": [
    "## Importing libraries"
   ]
  },
  {
   "cell_type": "code",
   "execution_count": 1,
   "metadata": {},
   "outputs": [],
   "source": [
    "import pandas as pd\n",
    "import os\n",
    "import json"
   ]
  },
  {
   "cell_type": "markdown",
   "metadata": {},
   "source": [
    "## Location of the directory containing data dictionary"
   ]
  },
  {
   "cell_type": "code",
   "execution_count": 2,
   "metadata": {},
   "outputs": [],
   "source": [
    "directory_path = '../../data_ingest/ipeds/dictionaries'"
   ]
  },
  {
   "cell_type": "code",
   "execution_count": 3,
   "metadata": {},
   "outputs": [],
   "source": [
    "table_names = [\"ADM2022\", \"C2022DEP\", \"EFFY2022\", \"GR2022\", \"HD2022\", \"IC2022CAMPUSES\"]"
   ]
  },
  {
   "cell_type": "code",
   "execution_count": 4,
   "metadata": {},
   "outputs": [],
   "source": [
    "ADM2022_prefix = \"\"\n",
    "C2022DEP_prefix = \"\"\n",
    "EFFY2022_prefix =\"\"\n",
    "HD2022_prefix = \"\"\n",
    "GR2022_prefix = \"\"\n",
    "IC2022_CAMPUSES_prefix = \"\""
   ]
  },
  {
   "cell_type": "code",
   "execution_count": 5,
   "metadata": {},
   "outputs": [],
   "source": [
    "def is_convertible_to_int(s):\n",
    "    try:\n",
    "        float(s)\n",
    "        return True\n",
    "    except ValueError:\n",
    "        return False"
   ]
  },
  {
   "cell_type": "markdown",
   "metadata": {},
   "source": [
    "## Creating JSON file for Chroma DB"
   ]
  },
  {
   "cell_type": "code",
   "execution_count": 6,
   "metadata": {},
   "outputs": [],
   "source": [
    "for i, filename in enumerate(os.listdir(directory_path)):\n",
    "    # Check if the item is a file (not a subdirectory)\n",
    "    if os.path.isfile(os.path.join(directory_path, filename)):\n",
    "        df = pd.read_excel(directory_path+\"/\"+filename,sheet_name = 'varlist')\n",
    "        df1 = pd.read_excel(directory_path+\"/\"+filename,sheet_name = 'Frequencies')\n",
    "        df2 = pd.read_excel(directory_path+\"/\"+filename,sheet_name = 'Introduction')\n",
    "        dataset = df[['varname','format','DataType','varTitle']]\n",
    "        dataset2 = df1[['varname','codevalue','valuelabel']]\n",
    "        dataset.loc[:, 'DataType'] = dataset['DataType'].replace({'N': 'Numeric', 'A': 'Text'})\n",
    "        tabledesc = str(str(df2['TableDescription'].iloc[0]).replace(',', ';').replace(':', '').replace('/',' or '))\n",
    "        tableName = str(str(df2['TableName'].iloc[0]))\n",
    "        del df, df1\n",
    "        if table_names[i].lower() in filename:\n",
    "            descr = \"\"\n",
    "            for index, row in dataset.iterrows():\n",
    "                varName= ''\n",
    "                desc = ''\n",
    "                if row['format'] in 'Disc':\n",
    "                    varName = str(row['varname']).lower()\n",
    "                    desc = str(row['varTitle']).replace(',', ';').replace(':', '').replace('/',' or ')\n",
    "                    dtype = str(row['DataType'])\n",
    "                    values = {}\n",
    "                    \n",
    "                    for index2, row2 in dataset2.iterrows():\n",
    "                        if row['varname'] in row2['varname'] and len(row['varname']) == len(row2['varname']):\n",
    "                            key = str(row2['valuelabel']).replace(',', ';').replace(':', '').replace(\"\\\\\", \"\\\\\\\\\").replace(\"'\",\"\").replace('/',' or ')\n",
    "                            if is_convertible_to_int(str(row2['codevalue'])):\n",
    "                                try:\n",
    "                                    values[key] = int(str(row2['codevalue']))\n",
    "                                except ValueError:\n",
    "                                    try:\n",
    "                                        values[key] = float(str(row2['codevalue']))\n",
    "                                    except ValueError:\n",
    "                                        # values[key] = str(row2['codevalue'])\n",
    "                                        print(\"Error in float value as well\")\n",
    "        \n",
    "                            else:\n",
    "                                 values[key] = str(row2['codevalue'])\n",
    "                            \n",
    "                    if len(descr) == 0:\n",
    "                        descr += '{ \"Table_Info\": [ { \"Table_Name\": \"'+ tableName + '\", \"Table_Description\": '+ tabledesc +', \"Columns\": [ { \"Column_Name\": \"' + varName + '\", \"Data_Type\": \"'+ dtype+ '\", \"Column_Description\": \"'+ desc +'\", \"encoded_values\": \"' + str(values) +'\" }'\n",
    "                    else:\n",
    "                        descr += ', {\"Column_Name\": \"' + varName + '\", \"Data_Type\": \"'+ dtype+ '\", \"Column_Description\": \"'+ desc  + '\", \"encoded_values\": \"' + str(values) +'\" }'\n",
    "                else:\n",
    "                    varName = str(row['varname']).lower()\n",
    "                    desc = str(row['varTitle']).replace(',', ';').replace(':', '').replace('/',' or ')\n",
    "                    dtype = str(row['DataType'])\n",
    "                    if len(descr) == 0:\n",
    "                        descr += '{ \"Table_Info\": [ {\"Table_Name\": \"'+ tableName + '\", \"Table_Description\": '+ tabledesc +', \"Columns\": [ { \"Column_Name\": \"' + varName + '\", \"Data_Type\": \"'+ dtype+ '\", \"Column_Description\": \"'+ desc+'\" }'\n",
    "                    else:\n",
    "                        descr += ', {\"Column_Name\": \"'+ varName + '\", \"Data_Type\": \"'+ dtype + '\", \"Column_Description\": \"'+ desc +'\" }'\n",
    "            descr += ']}]}'\n",
    "            if i == 0:\n",
    "                ADM2022_prefix += descr\n",
    "            elif i ==1:\n",
    "                C2022DEP_prefix += descr\n",
    "            elif i ==2:\n",
    "                EFFY2022_prefix += descr\n",
    "            elif i ==3:\n",
    "                GR2022_prefix += descr\n",
    "            elif i ==4:\n",
    "                HD2022_prefix += descr\n",
    "            else:\n",
    "                IC2022_CAMPUSES_prefix += descr"
   ]
  },
  {
   "cell_type": "code",
   "execution_count": 7,
   "metadata": {},
   "outputs": [],
   "source": [
    "HD2022_prefix=HD2022_prefix.replace(\"\\\\\", \"\\\\\\\\\")\n",
    "ADM2022_prefix = ADM2022_prefix.replace(\"\\\\\", \"\\\\\\\\\")"
   ]
  },
  {
   "cell_type": "code",
   "execution_count": 8,
   "metadata": {},
   "outputs": [],
   "source": [
    "json_objects = [\n",
    "    ADM2022_prefix,\n",
    "C2022DEP_prefix,\n",
    "EFFY2022_prefix,\n",
    "HD2022_prefix,\n",
    "GR2022_prefix,\n",
    "IC2022_CAMPUSES_prefix,\n",
    "]"
   ]
  },
  {
   "cell_type": "code",
   "execution_count": 9,
   "metadata": {},
   "outputs": [],
   "source": [
    "json_file_path= r'tableinfo.json'"
   ]
  },
  {
   "cell_type": "code",
   "execution_count": 10,
   "metadata": {},
   "outputs": [],
   "source": [
    "ls = []\n",
    "for i in json_objects:\n",
    "    ls.append(json.loads(i))"
   ]
  },
  {
   "cell_type": "code",
   "execution_count": 11,
   "metadata": {},
   "outputs": [],
   "source": [
    "with open(json_file_path, \"w\") as json_file:\n",
    "    json.dump(ls, json_file, indent=4)"
   ]
  },
  {
   "cell_type": "markdown",
   "metadata": {},
   "source": [
    "## Creating JSON file for MongoDB"
   ]
  },
  {
   "cell_type": "code",
   "execution_count": 7,
   "metadata": {},
   "outputs": [],
   "source": [
    "def to_double_quotes(s):\n",
    "    return '\"' + s.replace('\"', '\\\\\"') + '\"'"
   ]
  },
  {
   "cell_type": "code",
   "execution_count": 7,
   "metadata": {},
   "outputs": [],
   "source": [
    "descr = '[{ \"Table_Info\": ['\n",
    "count_1=0\n",
    "for i, filename in enumerate(os.listdir(directory_path)):\n",
    "    # Check if the item is a file (not a subdirectory)\n",
    "    if os.path.isfile(os.path.join(directory_path, filename)):\n",
    "        df = pd.read_excel(directory_path+\"/\"+filename,sheet_name = 'varlist')\n",
    "        df1 = pd.read_excel(directory_path+\"/\"+filename,sheet_name = 'Frequencies')\n",
    "        df2 = pd.read_excel(directory_path+\"/\"+filename,sheet_name = 'Introduction')\n",
    "        dataset = df[['varname','format','DataType','varTitle']]\n",
    "        dataset2 = df1[['varname','codevalue','valuelabel']]\n",
    "        dataset.loc[:, 'DataType'] = dataset['DataType'].replace({'N': 'Numeric', 'A': 'Text'})\n",
    "        tabledesc = str(str(df2['TableDescription'].iloc[0]).replace(',', ';').replace(':', '').replace('/',' or '))\n",
    "        tableName = str(str(df2['TableName'].iloc[0]))\n",
    "        del df, df1\n",
    "        if table_names[i].lower() in filename:\n",
    "            for index, row in dataset.iterrows():\n",
    "                varName= ''\n",
    "                desc = ''\n",
    "                if row['format'] in 'Disc':\n",
    "                    varName = str(row['varname']).lower()\n",
    "                    desc = str(row['varTitle']).replace(',', ';').replace(':', '').replace('/',' or ')\n",
    "                    dtype = str(row['DataType'])\n",
    "                    values = {}\n",
    "                    for index2, row2 in dataset2.iterrows():\n",
    "                        if row['varname'] in row2['varname'] and len(row['varname']) == len(row2['varname']):\n",
    "                            key = str(row2['valuelabel']).replace(',', ';').replace(':', '').replace(\"\\\\\",'').replace(\"'\",'').replace('/',' or ')\n",
    "                            key = repr(key).replace(\"'\", '\"')\n",
    "                            if is_convertible_to_int(str(row2['codevalue'])) and dtype not in 'Text':\n",
    "                                values[key] = float(str(row2['codevalue']))\n",
    "                            else:\n",
    "                                 values[key] = to_double_quotes(str(row2['codevalue'])) \n",
    "                    if tableName not in descr:\n",
    "                        count_1+=1\n",
    "                        descr += '{ \"Table_Name\": \"'+ tableName + '\", \"Table_Description\": '+ tabledesc +', \"Columns\": [ { \"Column_Name\": \"' + varName + '\", \"Data_Type\": \"'+ dtype+ '\", \"Column_Description\": \"'+ desc +'\", \"encoded_values\": ' + str(values).replace(\"'\",'') + '}'\n",
    "                    else:\n",
    "                        descr += ', {\"Column_Name\": \"' + varName + '\", \"Data_Type\": \"'+ dtype+ '\", \"Column_Description\": \"'+ desc  + '\", \"encoded_values\": '  + str(values).replace(\"'\",'') + '}'\n",
    "                else:\n",
    "                    varName = str(row['varname']).lower()\n",
    "                    desc = str(row['varTitle']).replace(',', ';').replace(':', '').replace('/',' or ')\n",
    "                    dtype = str(row['DataType'])\n",
    "                    if tableName not in descr:\n",
    "                        count_1+=1\n",
    "                        descr += '{ \"Table_Name\": \"'+ tableName + '\", \"Table_Description\": '+ tabledesc +', \"Columns\": [ { \"Column_Name\": \"' + varName + '\", \"Data_Type\": \"'+ dtype+ '\", \"Column_Description\": \"'+ desc+'\" }'\n",
    "                    else:\n",
    "                        descr += ', {\"Column_Name\": \"'+ varName + '\", \"Data_Type\": \"'+ dtype + '\", \"Column_Description\": \"'+ desc +'\" }'\n",
    "            if count_1 == len(table_names):\n",
    "                descr += ']}'\n",
    "            else:\n",
    "                descr += ']},'\n",
    "descr += ']}]'"
   ]
  },
  {
   "cell_type": "code",
   "execution_count": 11,
   "metadata": {},
   "outputs": [],
   "source": [
    "ds = json.loads(descr)"
   ]
  },
  {
   "cell_type": "code",
   "execution_count": 12,
   "metadata": {},
   "outputs": [],
   "source": [
    "json_file_path= r'tableinfo_new.json'"
   ]
  },
  {
   "cell_type": "code",
   "execution_count": 12,
   "metadata": {},
   "outputs": [],
   "source": [
    "with open(json_file_path, \"w\") as json_file:\n",
    "    json.dump(ds, json_file, indent=4)"
   ]
  }
 ],
 "metadata": {
  "kernelspec": {
   "display_name": "venv",
   "language": "python",
   "name": "python3"
  },
  "language_info": {
   "codemirror_mode": {
    "name": "ipython",
    "version": 3
   },
   "file_extension": ".py",
   "mimetype": "text/x-python",
   "name": "python",
   "nbconvert_exporter": "python",
   "pygments_lexer": "ipython3",
   "version": "3.11.8"
  },
  "orig_nbformat": 4
 },
 "nbformat": 4,
 "nbformat_minor": 2
}
