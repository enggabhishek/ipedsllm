{
 "cells": [
  {
   "cell_type": "code",
   "execution_count": 1,
   "metadata": {},
   "outputs": [
    {
     "data": {
      "text/plain": [
       "True"
      ]
     },
     "execution_count": 1,
     "metadata": {},
     "output_type": "execute_result"
    }
   ],
   "source": [
    "from langchain.prompts import ChatPromptTemplate, MessagesPlaceholder, PromptTemplate\n",
    "import streamlit as st\n",
    "from langchain_openai import ChatOpenAI\n",
    "from langchain_core.runnables import RunnablePassthrough,RunnableMap\n",
    "from langchain_core.output_parsers import StrOutputParser\n",
    "from langchain_core.prompts import ChatPromptTemplate\n",
    "from prompts import column_name_retriver_prompt, encoded_values_retriver_prompt, column_desc_retriver_prompt\n",
    "import re\n",
    "import ast\n",
    "import openai\n",
    "from pymongo import MongoClient\n",
    "import os\n",
    "from dotenv import load_dotenv\n",
    "load_dotenv()"
   ]
  },
  {
   "cell_type": "code",
   "execution_count": 2,
   "metadata": {},
   "outputs": [],
   "source": [
    "OPENAI_API_KEY = os.getenv(\"OPENAI_API_KEY\")\n",
    "LANGCHAIN_TRACING_V2 = os.getenv(\"LANGCHAIN_TRACING_V2\")\n",
    "LANGCHAIN_API_KEY = os.getenv(\"LANGCHAIN_API_KEY\")\n",
    "LANGCHAIN_PROJECT=os.getenv(\"LANGCHAIN_PROJECT\")\n",
    "db_url = os.getenv(\"DB_URL\")"
   ]
  },
  {
   "cell_type": "code",
   "execution_count": 3,
   "metadata": {},
   "outputs": [],
   "source": [
    "client = MongoClient(os.getenv('MONGODB_URI'), tls=True,\n",
    "    tlsAllowInvalidCertificates=True)\n",
    "mongo_db = client.get_database(os.getenv('DB_NAME'))\n",
    "c_name = os.getenv('COLLECTION_NAME')\n",
    "collection= mongo_db.Data"
   ]
  },
  {
   "cell_type": "code",
   "execution_count": 4,
   "metadata": {},
   "outputs": [],
   "source": [
    "answer_prompt = PromptTemplate.from_template(\n",
    "    \"\"\"Given the following user question, corresponding SQL query, and SQL result, answer the user question.\n",
    "\n",
    "Question: {question}\n",
    "SQL Query: {query}\n",
    "SQL Result: {result}\n",
    "Answer: \"\"\"\n",
    ")\n",
    "\n",
    "column_desc_retriver_prompt = \"\"\"\n",
    "Retrieve the description of a specific column as a string, based on the column name mentioned in the question, using the provided context.\n",
    "\n",
    "Context:\n",
    "{context}\n",
    "\n",
    "- `Column_Description`: A dictionary where keys are column descriptions and values are column names.\n",
    "\n",
    "Tasks:\n",
    "Identify one specific description corresponding to the one column name mentioned in the question. Provide a single column description to assist the downstream Text-to-SQL Agent in formulating SQL queries involving JOINs, filtering, and subqueries.\n",
    "Question:\n",
    "{question}\n",
    "\n",
    "Output format:\n",
    "\n",
    "'Column_Description key'\n",
    "    \"\"\"\n",
    "    \n",
    "column_name_retriver_prompt = \"\"\"\n",
    "Retrieve the specific column names that are relevant to the question variables within the provided context. Use the following details:\n",
    "\n",
    "Context:\n",
    "{context}\n",
    "\n",
    "Details:\n",
    "\n",
    "- `Column_Description`: This dictionary contains column descriptions as keys and their respective column names as values.\n",
    "\n",
    "Tasks to accomplish:\n",
    "1. Identify column names.\n",
    "\n",
    "Scan the context for column names pertinent to the question. Include the 'unitid' column of the relevant table to aid the downstream Text-to-SQL Agent in constructing SQL queries involving JOINs, filters, and subqueries.\n",
    "\n",
    "Question: {question}\n",
    "\n",
    "Output format:\n",
    "\n",
    "Column names related to the question: [column_name1, column_name2, ...]\n",
    "    \"\"\"\n",
    "\n",
    "encoded_values_retriver_prompt = \"\"\"Retrieve the specific one encoded value based on the provided context. Answer the question using only the following context:\n",
    "\n",
    "{context}\n",
    "\n",
    "Details:\n",
    "- `Encoded_Values`: A dictionary containing code descriptions as keys and corresponding encoded values as integers, float or string representing the discrete column values.\n",
    "\n",
    "Tasks to perform:\n",
    "1. Identify the encoded value.\n",
    "\n",
    "Search the context for one encoded value that answers the question. Include a specific one encoded value to help the downstream Text-to-SQL Agent in forming SQL queries involving JOINs, filtering, and subqueries. Note that `unitid` is the primary key for JOIN operations.\n",
    "\n",
    "Question: {question}\n",
    "Output format:\n",
    "Encoded_Values:\n",
    "\"\"\""
   ]
  },
  {
   "cell_type": "code",
   "execution_count": 5,
   "metadata": {},
   "outputs": [],
   "source": [
    "def get_embedding(text):\n",
    "    \n",
    "    EMBEDDING_MODEL = \"text-embedding-ada-002\"\n",
    "    \"\"\"Generate an embedding for the given text using OpenAI's API.\"\"\"\n",
    "\n",
    "    # Check for valid input\n",
    "    if not text or not isinstance(text, str):\n",
    "        return None\n",
    "\n",
    "    try:\n",
    "        # Call OpenAI API to get the embedding\n",
    "        embedding = openai.embeddings.create(input=text, model=EMBEDDING_MODEL).data[0].embedding\n",
    "        return embedding\n",
    "    except Exception as e:\n",
    "        print(f\"Error in get_embedding: {e}\")\n",
    "        return None"
   ]
  },
  {
   "cell_type": "code",
   "execution_count": 6,
   "metadata": {},
   "outputs": [],
   "source": [
    "def vector_search(user_query, collection):\n",
    "  \n",
    "    # Generate embedding for the user query\n",
    "    query_embedding = get_embedding(user_query)\n",
    "\n",
    "    if query_embedding is None:\n",
    "        return \"Invalid query or embedding generation failed.\"\n",
    "\n",
    "    # Define the vector search pipeline\n",
    "    pipeline = [\n",
    "                {\n",
    "                    \"$vectorSearch\":{\n",
    "                                        \"index\": \"vector_index\",\n",
    "                                        \"path\": \"embedding\",\n",
    "                                        \"queryVector\": query_embedding,\n",
    "                                        \"numCandidates\": 20,\n",
    "                                        \"limit\": 4\n",
    "                                    }\n",
    "                },\n",
    "                {\n",
    "                    \"$project\": {\n",
    "                                    \"_id\": 0,  # Exclude the _id field\n",
    "                                    \"text\": 1,\n",
    "                                    \"Table_Description\": 1, # Include the Table_Description field\n",
    "                                    \"Table_Name\": 1,\n",
    "                                    \"Encoded_Values\": 1,  # Include the Encoded_Values field\n",
    "                                    \"Column_Description\": 1, # Include the Column_Description field\n",
    "                                    \"score\": {\n",
    "                                                \"$meta\": \"vectorSearchScore\"  # Include the search score\n",
    "                                            }\n",
    "                                }\n",
    "                }\n",
    "        \n",
    "            ]\n",
    "    # Execute the search\n",
    "    results = collection.aggregate(pipeline)\n",
    "    return list(results)"
   ]
  },
  {
   "cell_type": "code",
   "execution_count": 7,
   "metadata": {},
   "outputs": [],
   "source": [
    "def get_table_info(question: str, template: str, context: dict):\n",
    "    prompt = ChatPromptTemplate.from_template(template)\n",
    "\n",
    "    model = ChatOpenAI()\n",
    "\n",
    "    table_chain = (\n",
    "        RunnableMap({\"context\": RunnablePassthrough(), \"question\": RunnablePassthrough()})\n",
    "        | prompt\n",
    "        | model\n",
    "        | StrOutputParser()\n",
    "    )\n",
    "    return table_chain.invoke({\"context\": context, \"question\": question})"
   ]
  },
  {
   "cell_type": "code",
   "execution_count": 8,
   "metadata": {},
   "outputs": [],
   "source": [
    "patterns = [\n",
    "    \"(\\[.*?\\])\",  # Pattern 1\n",
    "    \"'(\\w+)'\",    # Pattern 2\n",
    "]\n",
    "def retrieve_list_objects(pattern, text):\n",
    "    return re.findall(pattern, text)"
   ]
  },
  {
   "cell_type": "code",
   "execution_count": 9,
   "metadata": {},
   "outputs": [],
   "source": [
    "def get_substring_before_colon(input_string):\n",
    "    result = input_string.split(':', 1)[0]\n",
    "    return result.strip()"
   ]
  },
  {
   "cell_type": "code",
   "execution_count": 10,
   "metadata": {},
   "outputs": [],
   "source": [
    "def fetch_value(input_string):\n",
    "  \n",
    "    last_colon_index = input_string.rfind(':')\n",
    "    \n",
    "    if last_colon_index != -1:\n",
    "        value_string = input_string[last_colon_index+1:].lstrip()\n",
    "        \n",
    "        try:\n",
    "            return int(value_string)\n",
    "        except ValueError:\n",
    "            try:\n",
    "                return float(value_string)\n",
    "            except ValueError:\n",
    "                return value_string\n",
    "    else:\n",
    "        return None"
   ]
  },
  {
   "cell_type": "code",
   "execution_count": 11,
   "metadata": {},
   "outputs": [],
   "source": [
    "def handle_user_query(question, collection):\n",
    "\n",
    "  get_knowledge = vector_search(question, collection)\n",
    "  output = \"[\"\n",
    "  count_col = 0\n",
    "  for result in get_knowledge:\n",
    "    context = {}\n",
    "    column_details = ''\n",
    "    if result.get('Encoded_Values', '-1')!= '-1':\n",
    "        \n",
    "      context[\"Table_Name\"] = result.get('Table_Name')\n",
    "      context[\"Column_Description\"]= result.get('Column_Description')\n",
    "      column_details+=get_table_info(question, column_name_retriver_prompt, context)\n",
    "      print(' Line 14', column_details)\n",
    "      cdesc = ''\n",
    "      if \"Column names related to the question\" in column_details:\n",
    "        ls = retrieve_list_objects(patterns[1], column_details)\n",
    "        encoded_values=result.get('Encoded_Values')\n",
    "        encoded_values=ast.literal_eval(encoded_values)\n",
    "        code_value =''\n",
    "        for i in ls:\n",
    "          if encoded_values.get(i, 'N/A')!= 'N/A':\n",
    "            if isinstance(encoded_values.get(i), str):\n",
    "              code_value= ast.literal_eval(encoded_values.get(i))\n",
    "            elif isinstance(encoded_values.get(i), dict):\n",
    "              code_value = encoded_values.get(i)\n",
    "            code_value = get_table_info(question, encoded_values_retriver_prompt, code_value)\n",
    "            print(\"=============25 Line========\", code_value)\n",
    "            cdesc=get_table_info(i, column_desc_retriver_prompt ,context[\"Column_Description\"])\n",
    "            print(\"============27 Line==========\", cdesc)\n",
    "            if count_col == 0:\n",
    "              count_col+=1\n",
    "              output+= \"{\"+ f\"'Table_Name': '{result.get('Table_Name')}' ,'Column_Name': '{i}', 'Column_Description': {get_substring_before_colon(cdesc)} ,'Encoded_Values': {fetch_value(code_value)}\" + \"}\"\n",
    "            else:\n",
    "              output+= \", {\"+ f\"'Table_Name': '{result.get('Table_Name')}' , 'Column_Name': '{i}', 'Column_Description': {get_substring_before_colon(cdesc)}, 'Encoded_Values': {fetch_value(code_value)}\" + \"}\"\n",
    "          else:\n",
    "            cdesc=get_table_info(i, column_desc_retriver_prompt ,context[\"Column_Description\"])\n",
    "            print(\"=============35 Line========\", cdesc)\n",
    "            if count_col == 0:\n",
    "              count_col+=1\n",
    "              output+= \"{\" + f\"'Table_Name': '{result.get('Table_Name')}' ,'Column_Name': '{i}', 'Column_Description': {get_substring_before_colon(cdesc)}\" + \"}\"\n",
    "            else:\n",
    "              output+= \", {\" + f\"'Table_Name': '{result.get('Table_Name')}' ,'Column_Name': '{i}', 'Column_Description': {get_substring_before_colon(cdesc)}\" + \"}\"\n",
    "        \n",
    "      else:\n",
    "        ls = ast.literal_eval(column_details)\n",
    "        encoded_values=result.get('Encoded_Values')\n",
    "        encoded_values=ast.literal_eval(encoded_values)\n",
    "        code_value =''\n",
    "        for i in ls:\n",
    "          if encoded_values.get(i, 'N/A')!= 'N/A':\n",
    "            if isinstance(encoded_values.get(i), str):\n",
    "              code_value= ast.literal_eval(encoded_values.get(i))\n",
    "            elif isinstance(encoded_values.get(i), dict):\n",
    "              code_value = encoded_values.get(i)\n",
    "            code_value = get_table_info(question, encoded_values_retriver_prompt, code_value)\n",
    "            print(\"=============51 Line========\", code_value)\n",
    "            cdesc=get_table_info(i, column_desc_retriver_prompt ,context[\"Column_Description\"])\n",
    "            print(\"=============53 Line========\", cdesc)\n",
    "            if count_col == 0:\n",
    "              count_col+=1\n",
    "              output+= \"{\"+ f\"'Table_Name': '{result.get('Table_Name')}' , 'Column_Name': '{i}', 'Column_Description': {get_substring_before_colon(cdesc)} , 'Encoded_Values': {fetch_value(code_value)}\" + \"}\"\n",
    "            else:\n",
    "              output+= \", {\"+ f\"'Table_Name': '{result.get('Table_Name')}' , 'Column_Name': '{i}', 'Column_Description': {get_substring_before_colon(cdesc)}, 'Encoded_Values': {fetch_value(code_value)}\" + \"}\"\n",
    "          else:\n",
    "            cdesc=get_table_info(i, column_desc_retriver_prompt ,context[\"Column_Description\"])\n",
    "            print(\"=============61 Line========\", cdesc)\n",
    "            if count_col == 0:\n",
    "              count_col+=1\n",
    "              output+= \"{\" + f\"'Table_Name': '{result.get('Table_Name')}' ,'Column_Name': '{i}', 'Column_Description': {get_substring_before_colon(cdesc)}\" + \"}\"\n",
    "            else:\n",
    "              output+= \", {\" + f\"'Table_Name': '{result.get('Table_Name')}' , 'Column_Name': '{i}', 'Column_Description': {get_substring_before_colon(cdesc)}\" + \"}\"\n",
    "  output += \"]\"\n",
    "  return output"
   ]
  },
  {
   "cell_type": "code",
   "execution_count": 12,
   "metadata": {},
   "outputs": [
    {
     "name": "stdout",
     "output_type": "stream",
     "text": [
      " Line 14 Column names related to the question: ['unitid', 'pcinstnm', 'pccity', 'pcstabbr', 'pczip']\n",
      "=============35 Line======== 'Unique identification number of the institution'\n",
      "=============35 Line======== 'Branch Campus Name': 'pcinstnm'\n",
      "=============35 Line======== 'City location of institution'\n",
      "=============25 Line======== Encoded_Values:\n",
      "- Boston: Not Found\n",
      "============27 Line========== 'Column_Description': 'State abbreviation'\n",
      "=============35 Line======== 'ZIP code': 'pczip'\n",
      " Line 14 Column names related to the question: ['unitid', 'instnm', 'city', 'stabbr', 'zip']\n",
      "=============35 Line======== 'Unique identification number of the institution'\n",
      "=============35 Line======== 'Institution (entity) name'\n",
      "=============35 Line======== 'City location of institution'\n",
      "    \n",
      "=============25 Line======== Encoded_Values: 'MA'\n",
      "============27 Line========== 'State abbreviation': 'stabbr'\n",
      "=============35 Line======== 'ZIP code': 'FIPS state code'\n",
      " Line 14 Column names related to the question: ['unitid']\n",
      "=============35 Line======== 'Unique identification number of the institution'\n",
      " Line 14 Column names related to the question: ['unitid']\n",
      "=============35 Line======== 'Unique identification number of the institution'\n"
     ]
    }
   ],
   "source": [
    "question = \"Total Number of institutes in Boston\"\n",
    "ls = handle_user_query(question, collection)"
   ]
  },
  {
   "cell_type": "code",
   "execution_count": 14,
   "metadata": {},
   "outputs": [
    {
     "data": {
      "text/plain": [
       "\"[{'Table_Name': 'ic2022campuses' ,'Column_Name': 'unitid', 'Column_Description': 'Unique identification number of the institution'}, {'Table_Name': 'ic2022campuses' ,'Column_Name': 'pcinstnm', 'Column_Description': 'Branch Campus Name'}, {'Table_Name': 'ic2022campuses' ,'Column_Name': 'pccity', 'Column_Description': 'City location of institution'}, {'Table_Name': 'ic2022campuses' , 'Column_Name': 'pcstabbr', 'Column_Description': 'Column_Description', 'Encoded_Values': Not Found}, {'Table_Name': 'ic2022campuses' ,'Column_Name': 'pczip', 'Column_Description': 'ZIP code'}, {'Table_Name': 'hd2022' ,'Column_Name': 'unitid', 'Column_Description': 'Unique identification number of the institution'}, {'Table_Name': 'hd2022' ,'Column_Name': 'instnm', 'Column_Description': 'Institution (entity) name'}, {'Table_Name': 'hd2022' ,'Column_Name': 'city', 'Column_Description': 'City location of institution'}, {'Table_Name': 'hd2022' , 'Column_Name': 'stabbr', 'Column_Description': 'State abbreviation', 'Encoded_Values': 'MA'}, {'Table_Name': 'hd2022' ,'Column_Name': 'zip', 'Column_Description': 'ZIP code'}, {'Table_Name': 'effy2022' ,'Column_Name': 'unitid', 'Column_Description': 'Unique identification number of the institution'}, {'Table_Name': 'c2022dep' ,'Column_Name': 'unitid', 'Column_Description': 'Unique identification number of the institution'}]\""
      ]
     },
     "execution_count": 14,
     "metadata": {},
     "output_type": "execute_result"
    }
   ],
   "source": [
    "ls"
   ]
  }
 ],
 "metadata": {
  "kernelspec": {
   "display_name": "venv",
   "language": "python",
   "name": "python3"
  },
  "language_info": {
   "codemirror_mode": {
    "name": "ipython",
    "version": 3
   },
   "file_extension": ".py",
   "mimetype": "text/x-python",
   "name": "python",
   "nbconvert_exporter": "python",
   "pygments_lexer": "ipython3",
   "version": "3.11.8"
  }
 },
 "nbformat": 4,
 "nbformat_minor": 2
}
